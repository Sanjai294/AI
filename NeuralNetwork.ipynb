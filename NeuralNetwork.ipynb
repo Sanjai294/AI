{
 "cells": [
  {
   "cell_type": "code",
   "execution_count": 6,
   "id": "3a4fe338-a7cc-41b7-885a-fab0a46aa323",
   "metadata": {},
   "outputs": [],
   "source": [
    "import numpy as np\n",
    "from keras.models import Sequential\n",
    "from keras.layers import Dense"
   ]
  },
  {
   "cell_type": "code",
   "execution_count": 7,
   "id": "8a989d83-341d-4579-86a7-b6fb92f503b5",
   "metadata": {},
   "outputs": [
    {
     "name": "stdin",
     "output_type": "stream",
     "text": [
      "Enter the number of input features:  5\n",
      "Enter the number of hidden layers:  3\n"
     ]
    }
   ],
   "source": [
    "num_features = int(input(\"Enter the number of input features: \"))\n",
    "num_hidden_layers = int(input(\"Enter the number of hidden layers: \"))"
   ]
  },
  {
   "cell_type": "code",
   "execution_count": 8,
   "id": "9bfe2754-333e-4eba-8268-ba7d0e05a51b",
   "metadata": {},
   "outputs": [
    {
     "name": "stdin",
     "output_type": "stream",
     "text": [
      "Enter the number of units for hidden layer 1:  3\n",
      "Enter the number of units for hidden layer 2:  3\n",
      "Enter the number of units for hidden layer 3:  3\n"
     ]
    }
   ],
   "source": [
    "hidden_units = []\n",
    "for i in range(num_hidden_layers):\n",
    "    units = int(input(f\"Enter the number of units for hidden layer {i + 1}: \"))\n",
    "    hidden_units.append(units)"
   ]
  },
  {
   "cell_type": "code",
   "execution_count": 9,
   "id": "9b0b7ff2-06d2-44f8-b813-4efdbb95e5f5",
   "metadata": {},
   "outputs": [
    {
     "name": "stdin",
     "output_type": "stream",
     "text": [
      "Enter the number of output units:  2\n"
     ]
    }
   ],
   "source": [
    "num_output_units = int(input(\"Enter the number of output units: \"))"
   ]
  },
  {
   "cell_type": "code",
   "execution_count": 15,
   "id": "51aba9e5-cc42-48df-8797-6b077d630a78",
   "metadata": {},
   "outputs": [
    {
     "name": "stdin",
     "output_type": "stream",
     "text": [
      "Enter the number of training samples:  2\n"
     ]
    }
   ],
   "source": [
    "num_samples = int(input(\"Enter the number of training samples: \"))\n",
    "X = np.zeros((num_samples, num_features))\n",
    "y = np.zeros((num_samples, num_output_units))"
   ]
  },
  {
   "cell_type": "code",
   "execution_count": 16,
   "id": "1b1129e6-c53b-429e-959f-087846e361d3",
   "metadata": {},
   "outputs": [
    {
     "name": "stdout",
     "output_type": "stream",
     "text": [
      "\n",
      "Enter data for sample 1:\n"
     ]
    },
    {
     "name": "stdin",
     "output_type": "stream",
     "text": [
      "  Enter value for input feature 1:  1\n",
      "  Enter value for input feature 2:  2\n",
      "  Enter value for input feature 3:  1\n",
      "  Enter value for input feature 4:  2\n",
      "  Enter value for input feature 5:  3\n",
      "  Enter value for output unit 1:  1\n",
      "  Enter value for output unit 2:  2\n"
     ]
    },
    {
     "name": "stdout",
     "output_type": "stream",
     "text": [
      "\n",
      "Enter data for sample 2:\n"
     ]
    },
    {
     "name": "stdin",
     "output_type": "stream",
     "text": [
      "  Enter value for input feature 1:  2\n",
      "  Enter value for input feature 2:  3\n",
      "  Enter value for input feature 3:  2\n",
      "  Enter value for input feature 4:  2\n",
      "  Enter value for input feature 5:  2\n",
      "  Enter value for output unit 1:  2\n",
      "  Enter value for output unit 2:  23\n"
     ]
    }
   ],
   "source": [
    "for i in range(num_samples):\n",
    "    print(f\"\\nEnter data for sample {i + 1}:\")\n",
    "    for j in range(num_features):\n",
    "        X[i, j] = float(input(f\"  Enter value for input feature {j + 1}: \"))\n",
    "    for j in range(num_output_units):\n",
    "        y[i, j] = float(input(f\"  Enter value for output unit {j + 1}: \"))"
   ]
  },
  {
   "cell_type": "code",
   "execution_count": 17,
   "id": "11c71691-e85a-4451-9389-043b7a195423",
   "metadata": {},
   "outputs": [
    {
     "name": "stderr",
     "output_type": "stream",
     "text": [
      "C:\\Users\\HP\\anaconda3\\envs\\venv\\lib\\site-packages\\keras\\src\\layers\\core\\dense.py:87: UserWarning: Do not pass an `input_shape`/`input_dim` argument to a layer. When using Sequential models, prefer using an `Input(shape)` object as the first layer in the model instead.\n",
      "  super().__init__(activity_regularizer=activity_regularizer, **kwargs)\n"
     ]
    }
   ],
   "source": [
    "model = Sequential()\n",
    "model.add(Dense(units=hidden_units[0], input_dim=num_features, activation='relu'))"
   ]
  },
  {
   "cell_type": "code",
   "execution_count": 18,
   "id": "d150ea96-1663-4c8a-8642-b8f3c7798603",
   "metadata": {},
   "outputs": [],
   "source": [
    "for i in range(1, num_hidden_layers):\n",
    "    model.add(Dense(units=hidden_units[i], activation='relu'))"
   ]
  },
  {
   "cell_type": "code",
   "execution_count": 19,
   "id": "7a2bf5f4-98c7-4f7d-91f3-fce0a6da0c97",
   "metadata": {},
   "outputs": [],
   "source": [
    "model.add(Dense(units=num_output_units, activation='sigmoid'))"
   ]
  },
  {
   "cell_type": "code",
   "execution_count": 20,
   "id": "988a3a7c-0aab-44b0-8dd4-4ceaeb40e350",
   "metadata": {},
   "outputs": [],
   "source": [
    "model.compile(loss='binary_crossentropy', optimizer='adam', metrics=['accuracy'])"
   ]
  },
  {
   "cell_type": "code",
   "execution_count": 21,
   "id": "4a1ef584-208b-4e36-a8ba-bc6b75b5dd0c",
   "metadata": {},
   "outputs": [
    {
     "data": {
      "text/plain": [
       "<keras.src.callbacks.history.History at 0x23571879cc0>"
      ]
     },
     "execution_count": 21,
     "metadata": {},
     "output_type": "execute_result"
    }
   ],
   "source": [
    "model.fit(X, y, epochs=100, verbose=0)"
   ]
  },
  {
   "cell_type": "code",
   "execution_count": 22,
   "id": "7c067cda-ebf0-43a1-8f59-bddbc41ab4c4",
   "metadata": {},
   "outputs": [
    {
     "name": "stdin",
     "output_type": "stream",
     "text": [
      "\n",
      "Enter the number of test samples:  2\n"
     ]
    }
   ],
   "source": [
    "num_test_samples = int(input(\"\\nEnter the number of test samples: \"))\n",
    "X_test = np.zeros((num_test_samples, num_features))"
   ]
  },
  {
   "cell_type": "code",
   "execution_count": 23,
   "id": "e10e6bd3-bad5-4cb3-82f2-834a7dd9480b",
   "metadata": {},
   "outputs": [
    {
     "name": "stdout",
     "output_type": "stream",
     "text": [
      "\n",
      "Enter data for test sample 1:\n"
     ]
    },
    {
     "name": "stdin",
     "output_type": "stream",
     "text": [
      "  Enter value for input feature 1:  2\n",
      "  Enter value for input feature 2:  2\n",
      "  Enter value for input feature 3:  3\n",
      "  Enter value for input feature 4:  2\n",
      "  Enter value for input feature 5:  3\n"
     ]
    },
    {
     "name": "stdout",
     "output_type": "stream",
     "text": [
      "\n",
      "Enter data for test sample 2:\n"
     ]
    },
    {
     "name": "stdin",
     "output_type": "stream",
     "text": [
      "  Enter value for input feature 1:  23\n",
      "  Enter value for input feature 2:  2\n",
      "  Enter value for input feature 3:  4\n",
      "  Enter value for input feature 4:  42\n",
      "  Enter value for input feature 5:  3\n"
     ]
    }
   ],
   "source": [
    "for i in range(num_test_samples):\n",
    "    print(f\"\\nEnter data for test sample {i + 1}:\")\n",
    "    for j in range(num_features):\n",
    "        X_test[i, j] = float(input(f\"  Enter value for input feature {j + 1}: \"))"
   ]
  },
  {
   "cell_type": "code",
   "execution_count": 24,
   "id": "680ceff7-fc66-49c8-8df2-6657436556c4",
   "metadata": {},
   "outputs": [
    {
     "name": "stdout",
     "output_type": "stream",
     "text": [
      "\u001b[1m1/1\u001b[0m \u001b[32m━━━━━━━━━━━━━━━━━━━━\u001b[0m\u001b[37m\u001b[0m \u001b[1m0s\u001b[0m 110ms/step\n"
     ]
    }
   ],
   "source": [
    "predictions = model.predict(X_test)"
   ]
  },
  {
   "cell_type": "code",
   "execution_count": 25,
   "id": "24b5e480-6ebd-4815-b7fd-022c4beba526",
   "metadata": {},
   "outputs": [
    {
     "name": "stdout",
     "output_type": "stream",
     "text": [
      "\n",
      "Predictions:\n",
      "Test sample 1: [0.5248729  0.52497023]\n",
      "Test sample 2: [0.41956347 0.9676189 ]\n"
     ]
    }
   ],
   "source": [
    "print(\"\\nPredictions:\")\n",
    "for i in range(num_test_samples):\n",
    "    print(f\"Test sample {i + 1}: {predictions[i]}\")"
   ]
  },
  {
   "cell_type": "code",
   "execution_count": null,
   "id": "75b7130a-4b74-4259-9208-8270f92e6e8a",
   "metadata": {},
   "outputs": [],
   "source": []
  }
 ],
 "metadata": {
  "kernelspec": {
   "display_name": "Python 3 (ipykernel)",
   "language": "python",
   "name": "python3"
  },
  "language_info": {
   "codemirror_mode": {
    "name": "ipython",
    "version": 3
   },
   "file_extension": ".py",
   "mimetype": "text/x-python",
   "name": "python",
   "nbconvert_exporter": "python",
   "pygments_lexer": "ipython3",
   "version": "3.10.16"
  }
 },
 "nbformat": 4,
 "nbformat_minor": 5
}
